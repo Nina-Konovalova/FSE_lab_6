{
 "cells": [
  {
   "cell_type": "markdown",
   "metadata": {},
   "source": [
    "## Class Observer\n",
    " * Class povides us numbers of infected people, death, recoveries etc."
   ]
  },
  {
   "cell_type": "code",
   "execution_count": 1,
   "metadata": {},
   "outputs": [],
   "source": [
    "from random import expovariate, uniform, randint\n",
    "\n",
    "class Observer():\n",
    "    def __init__(self):\n",
    "        self.num_infected_persons = 0\n",
    "        self.num_hospitalized_persons = 0\n",
    "        self.num_of_deaths = 0\n",
    "        self.num_of_recoveries = 0\n",
    "        self.num_of_persons_with_antibodies = 0\n",
    "        \n",
    "        self.infected_persons = []\n",
    "        self.hospitalized_persons = []\n",
    "        self.deaths = []\n",
    "        self.recoveries = []\n",
    "        self.persons_with_antibodies = []\n",
    "        \n",
    "    def bake_day_statistics(self):\n",
    "        self.infected_persons.append(self.num_infected_persons)\n",
    "        self.hospitalized_persons.append(self.num_hospitalized_persons)\n",
    "        self.deaths.append(self.num_of_deaths)\n",
    "        self.recoveries.append(self.num_of_recoveries)\n",
    "        self.persons_with_antibodies.append(self.num_of_persons_with_antibodies)\n",
    "    \n",
    "    def drop_day_statistics(self):\n",
    "        self.num_infected_persons = 0\n",
    "        self.num_hospitalized_persons = 0\n",
    "        self.num_of_deaths = 0\n",
    "        self.num_of_recoveries = 0\n",
    "        self.num_of_persons_with_antibodies = 0\n",
    "             \n",
    "observer = Observer()\n",
    "def observer_infections(f):\n",
    "    observer.num_infected_persons +=1 \n",
    "    return f\n",
    "\n",
    "def observer_hospitalized(f):\n",
    "    observer.num_hospitalized_persons +=1\n",
    "    return f\n",
    "\n",
    "def observer_deaths(f):\n",
    "    observer.num_of_deaths +=1\n",
    "    return f\n",
    "\n",
    "def observer_recoveries(f):\n",
    "    observer.num_of_recoveries +=1\n",
    "    return f\n",
    "\n",
    "def observer_antibodies(f):\n",
    "    observer.num_of_persons_with_antibodies +=1\n",
    "    return f"
   ]
  },
  {
   "cell_type": "markdown",
   "metadata": {},
   "source": [
    "# Class Person"
   ]
  },
  {
   "cell_type": "code",
   "execution_count": 2,
   "metadata": {},
   "outputs": [],
   "source": [
    "class Person:\n",
    "    MAX_TEMPERATURE_TO_SURVIVE = 44.0\n",
    "    LOWEST_WATER_PCT_TO_SURVIVE = 0.4\n",
    "    \n",
    "    LIFE_THREATENING_TEMPERATURE = 40.0\n",
    "    LIFE_THREATENING_WATER_PCT = 0.5\n",
    "    \n",
    "    def __init__(self, home_position=(0, 0), age=30, weight=70):\n",
    "        self.virus = None\n",
    "        self.antibody_types = set()\n",
    "        self.temperature = 36.6\n",
    "        self.weight = weight\n",
    "        self.water = 0.6 * self.weight\n",
    "        self.age = age\n",
    "        self.home_position = home_position\n",
    "        self.position = home_position\n",
    "        self.state = Healthy(self)\n",
    "        self.is_hospitalised = False\n",
    "    \n",
    "    def __str__(self):\n",
    "        return(f\"virus: {self.virus}, state: {self.state}\")\n",
    "    \n",
    "    def day_actions(self, health_dept):\n",
    "        if isinstance(self.state, SymptomaticSick):\n",
    "            self.state.day_actions(health_dept)\n",
    "        else:\n",
    "            self.state.day_actions()\n",
    "\n",
    "    def night_actions(self):\n",
    "        self.state.night_actions()\n",
    "\n",
    "    def interact(self, other):\n",
    "        self.state.interact(other)\n",
    "        \n",
    "    #@observer_infections\n",
    "    def get_infected(self, virus):\n",
    "        self.state.get_infected(virus)\n",
    "    \n",
    "    #@observer_recoveries\n",
    "    def get_recovered(self):\n",
    "        self.set_state(Healthy(self))\n",
    "    \n",
    "    def is_close_to(self, other):\n",
    "        return self.position == other.position\n",
    "    \n",
    "    def fightvirus(self):\n",
    "        if self.virus:\n",
    "            self.virus.strength -= (1.0 / self.age)\n",
    "    \n",
    "    def luck(self):\n",
    "        return randint(1,100) > 99\n",
    "        \n",
    "    def progress_disease(self):\n",
    "        if self.virus:\n",
    "            self.virus.cause_symptoms(self)\n",
    "\n",
    "    def set_state(self, state):\n",
    "        self.state = state\n",
    "    \n",
    "    def is_life_threatening_condition(self):\n",
    "        return self.temperature >= Person.LIFE_THREATENING_TEMPERATURE or \\\n",
    "            self.water / self.weight <= Person.LIFE_THREATENING_WATER_PCT\n",
    "    \n",
    "    def is_life_incompatible_condition(self):        \n",
    "        return self.temperature >= Person.MAX_TEMPERATURE_TO_SURVIVE or \\\n",
    "            self.water / self.weight <= Person.LOWEST_WATER_PCT_TO_SURVIVE"
   ]
  },
  {
   "cell_type": "markdown",
   "metadata": {},
   "source": [
    "# Class Infectable"
   ]
  },
  {
   "cell_type": "code",
   "execution_count": 3,
   "metadata": {},
   "outputs": [],
   "source": [
    "from enum import Enum\n",
    "from abc import ABC, abstractmethod\n",
    "\n",
    "class Infectable(ABC):\n",
    "    def __init__(self, strength=1.0, contag=1.0):\n",
    "        # contag is for contagiousness so we have less typos\n",
    "        self.strength = strength\n",
    "        self.contag = contag\n",
    "\n",
    "    @abstractmethod\n",
    "    def cause_symptoms(self, person):\n",
    "        pass\n",
    "    \n",
    "    \n",
    "class SeasonalFluVirus(Infectable):\n",
    "    def cause_symptoms(self, person):\n",
    "        person.temperature += 0.25\n",
    "\n",
    "    def get_type(self):\n",
    "        return InfectableType.SeasonalFlu\n",
    "    \n",
    "    \n",
    "class SARSCoV2(Infectable):\n",
    "    def cause_symptoms(self, person):\n",
    "        person.temperature += 0.5\n",
    "\n",
    "    def get_type(self):\n",
    "        return InfectableType.SARSCoV2\n",
    "\n",
    "\n",
    "class Cholera(Infectable):\n",
    "    def cause_symptoms(self, person):\n",
    "        person.water -= 1.0\n",
    "\n",
    "    def get_type(self):\n",
    "        return InfectableType.Cholera\n",
    "    \n",
    "\n",
    "class InfectableType(Enum):\n",
    "    SeasonalFlu = 1\n",
    "    SARSCoV2 = 2\n",
    "    Cholera = 3\n",
    "\n",
    "    \n",
    "def get_infectable(infectable_type: InfectableType):\n",
    "    if InfectableType.SeasonalFlu == infectable_type:\n",
    "        return SeasonalFluVirus(strength=expovariate(10.0), contag=expovariate(10.0))\n",
    "    \n",
    "    elif InfectableType.SARSCoV2 == infectable_type:\n",
    "        return SARSCoV2(strength=expovariate(2.0), contag=expovariate(2.0))\n",
    "    \n",
    "    elif InfectableType.Cholera == infectable_type:\n",
    "        return Cholera(strength=expovariate(2.0), contag=expovariate(2.0))\n",
    "    \n",
    "    else:\n",
    "        raise ValueError()"
   ]
  },
  {
   "cell_type": "code",
   "execution_count": null,
   "metadata": {},
   "outputs": [],
   "source": []
  },
  {
   "cell_type": "markdown",
   "metadata": {},
   "source": [
    "# Class DepartmentOfHealth"
   ]
  },
  {
   "cell_type": "code",
   "execution_count": 4,
   "metadata": {},
   "outputs": [],
   "source": [
    "class Hospital:\n",
    "    def __init__(self, capacity):\n",
    "        self.capacity = capacity\n",
    "        self.patients = []\n",
    "        self.drug_repository = {InfectableType.SARSCoV2 : 10,\n",
    "                                InfectableType.SeasonalFlu : 10,\n",
    "                                InfectableType.Cholera : 10}\n",
    "\n",
    "    def _there_are_drugs(self, disease_type):\n",
    "        if self.drug_repository[disease_type] > 0:\n",
    "            self.drug_repository[disease_type] -= 1\n",
    "            print(self.drug_repository)\n",
    "            return True\n",
    "        return False\n",
    "    \n",
    "    def _treat_patient(self, patient):\n",
    "        if patient.virus is not None:\n",
    "            disease_type = patient.virus.get_type()\n",
    "            if self._there_are_drugs(disease_type):\n",
    "                patient.fightvirus()\n",
    "                        \n",
    "    def treat_patients(self):\n",
    "        for patient in self.patients:\n",
    "                self._treat_patient(patient)\n",
    "    \n",
    "    \n",
    "class DepartmentOfHealth:\n",
    "    def __init__(self, hospitals):\n",
    "        self.hospitals = hospitals\n",
    "        self.num_of_hospitals = len(hospitals)\n",
    "        \n",
    "    def monitor_situation(self):\n",
    "        pass\n",
    "    \n",
    "    def issue_policy(self):\n",
    "        pass\n",
    "    \n",
    "    def hospitalize(self, person):\n",
    "        self.hospitals[randint(0,self.num_of_hospitals-1)].patients.append(person)\n",
    "        person.is_hospitalised = True\n",
    "        observer.num_hospitalized_persons+=1\n",
    "\n",
    "    \n",
    "class GlobalContext:\n",
    "    def __init__(self, canvas, persons, health_dept):\n",
    "        self.canvas = canvas\n",
    "        self.persons = persons\n",
    "        self.health_dept = health_dept"
   ]
  },
  {
   "cell_type": "code",
   "execution_count": null,
   "metadata": {},
   "outputs": [],
   "source": []
  },
  {
   "cell_type": "markdown",
   "metadata": {},
   "source": [
    "# Class State"
   ]
  },
  {
   "cell_type": "code",
   "execution_count": 5,
   "metadata": {},
   "outputs": [],
   "source": [
    "from abc import ABC, abstractmethod\n",
    "\n",
    "\n",
    "min_i, max_i = 0, 100\n",
    "min_j, max_j = 0, 100\n",
    "    \n",
    "\n",
    "class State(ABC):\n",
    "    def __init__(self, person): \n",
    "        self.person = person\n",
    "        \n",
    "    @abstractmethod\n",
    "    def day_actions(self): pass\n",
    "\n",
    "    @abstractmethod\n",
    "    def night_actions(self): pass\n",
    "\n",
    "    @abstractmethod\n",
    "    def interact(self, other): pass\n",
    "\n",
    "    @abstractmethod\n",
    "    def get_infected(self, virus): pass\n",
    "\n",
    "\n",
    "class Healthy(State):\n",
    "    def day_actions(self):\n",
    "        self.person.position = (randint(min_j, max_j), randint(min_i, max_i))\n",
    "\n",
    "    def night_actions(self):\n",
    "        self.person.position = self.person.home_position\n",
    "\n",
    "    def interact(self, other: Person): pass\n",
    "\n",
    "    \n",
    "    def get_infected(self, virus):\n",
    "        if virus.get_type() not in self.person.antibody_types:\n",
    "            self.person.virus = virus\n",
    "            self.person.set_state(AsymptomaticSick(self.person))\n",
    "        observer.num_infected_persons+=1\n",
    "\n",
    "\n",
    "class AsymptomaticSick(State):\n",
    "    DAYS_SICK_TO_FEEL_BAD = 2\n",
    "    \n",
    "    def __init__(self, person):\n",
    "        super().__init__(person)\n",
    "        self.days_sick = 0\n",
    "\n",
    "    def day_actions(self):\n",
    "        self.person.position = (randint(min_j, max_j), randint(min_i, max_i))\n",
    "\n",
    "    def night_actions(self):\n",
    "        self.person.position = self.person.home_position\n",
    "        if self.days_sick == AsymptomaticSick.DAYS_SICK_TO_FEEL_BAD:\n",
    "            self.person.set_state(SymptomaticSick(self.person))\n",
    "        self.days_sick += 1\n",
    "\n",
    "    def interact(self, other):\n",
    "        other.get_infected(self.person.virus)\n",
    "\n",
    "    def get_infected(self, virus): \n",
    "        pass\n",
    "\n",
    "\n",
    "class SymptomaticSick(State):\n",
    "    def day_actions(self, health_dept):\n",
    "        self.person.progress_disease()\n",
    "                    #TODO\n",
    "        if self.person.is_life_threatening_condition() and not self.person.is_hospitalised and \\\n",
    "                                                            self.person.luck():\n",
    "            health_dept.hospitalize(self.person)\n",
    "\n",
    "        if self.person.is_life_incompatible_condition():\n",
    "            self.person.set_state(Dead(self.person))\n",
    "            observer.num_of_deaths+=1\n",
    "            #print('somebody dead')\n",
    "        \n",
    "    def night_actions(self):\n",
    "        if self.person.virus.strength <= 0:\n",
    "            self.person.get_recovered()\n",
    "            self.person.antibody_types.add(self.person.virus.get_type())\n",
    "            self.person.virus = None\n",
    "            observer.num_of_recoveries+=1\n",
    "            observer.num_of_persons_with_antibodies+=1\n",
    "\n",
    "    def interact(self, other):\n",
    "        other.get_infected(self.person.virus)\n",
    "\n",
    "    def get_infected(self, virus): pass\n",
    "\n",
    "    \n",
    "class Dead(State):\n",
    "    def day_actions(self): pass\n",
    "\n",
    "    def night_actions(self): pass\n",
    "\n",
    "    def interact(self, other): pass\n",
    "\n",
    "    def get_infected(self, virus): pass\n"
   ]
  },
  {
   "cell_type": "markdown",
   "metadata": {},
   "source": [
    "# Simulating"
   ]
  },
  {
   "cell_type": "code",
   "execution_count": 6,
   "metadata": {},
   "outputs": [],
   "source": [
    "def simulate_day(context):\n",
    "    persons, health_dept, hospitals = context.persons, context.health_dept, context.health_dept.hospitals\n",
    "\n",
    "    #ealth_dept.make_policy()\n",
    "    \n",
    "    for hospital in hospitals:\n",
    "        hospital.treat_patients()\n",
    "    \n",
    "    for person in persons:\n",
    "        person.day_actions(health_dept)\n",
    "    \n",
    "    for person in persons:\n",
    "        for other in persons:\n",
    "            if person is not other and person.is_close_to(other):\n",
    "                person.interact(other)\n",
    "                \n",
    "    for person in persons:\n",
    "        person.night_actions()\n",
    "            \n",
    "    observer.bake_day_statistics()\n",
    "    observer.drop_day_statistics()"
   ]
  },
  {
   "cell_type": "markdown",
   "metadata": {},
   "source": [
    "## Context creation"
   ]
  },
  {
   "cell_type": "code",
   "execution_count": 7,
   "metadata": {},
   "outputs": [],
   "source": [
    "from random import randint\n",
    "\n",
    "\n",
    "def create_persons(min_j, max_j, min_i, max_i, n_persons):\n",
    "    min_age, max_age = 1, 90\n",
    "    min_weight, max_weight = 30, 120\n",
    "    persons = [\n",
    "        Person(\n",
    "            home_position=(randint(min_j, max_j), randint(min_i, max_i)),\n",
    "            age=randint(min_age, max_age),\n",
    "            weight=randint(min_weight, max_weight),\n",
    "        )\n",
    "        for i in range(n_persons)\n",
    "    ]\n",
    "    return persons\n",
    "\n",
    "\n",
    "def create_department_of_health(hospitals):\n",
    "    return DepartmentOfHealth(hospitals)\n",
    "\n",
    "\n",
    "def create_hospitals(n_hospitals):\n",
    "    hospitals = [\n",
    "        Hospital(capacity=100)\n",
    "        for i in range(n_hospitals)\n",
    "    ]\n",
    "    return hospitals\n",
    "\n",
    "\n",
    "def initialize():\n",
    "    # our little country\n",
    "    min_i, max_i = 0, 100\n",
    "    min_j, max_j = 0, 100\n",
    "    \n",
    "    # create observer\n",
    "\n",
    "    \n",
    "    # our citizen\n",
    "    n_persons = 1000\n",
    "    persons = create_persons(min_j, max_j, min_i, max_i, n_persons)\n",
    "    persons[5].virus = get_infectable(InfectableType.SARSCoV2)\n",
    "    persons[5].state = AsymptomaticSick(persons[5])\n",
    "    \n",
    "    persons[10].virus = get_infectable(InfectableType.SeasonalFlu)\n",
    "    persons[10].state = AsymptomaticSick(persons[10])\n",
    "    \n",
    "    persons[15].virus = get_infectable(InfectableType.Cholera)\n",
    "    persons[15].state = AsymptomaticSick(persons[15])\n",
    "    \n",
    "        \n",
    "    # our healthcare system\n",
    "    n_hospitals = 4\n",
    "    hospitals = create_hospitals(n_hospitals)\n",
    "    \n",
    "    health_dept = create_department_of_health(hospitals)\n",
    "    \n",
    "    # global context\n",
    "    context = GlobalContext(\n",
    "        (min_j, max_j, min_i, max_i),\n",
    "        persons,\n",
    "        health_dept\n",
    "    )\n",
    "    \n",
    "    return context"
   ]
  },
  {
   "cell_type": "code",
   "execution_count": null,
   "metadata": {},
   "outputs": [],
   "source": []
  },
  {
   "cell_type": "code",
   "execution_count": 8,
   "metadata": {},
   "outputs": [
    {
     "name": "stderr",
     "output_type": "stream",
     "text": [
      " 28%|██████████████████████▋                                                          | 28/100 [00:15<00:34,  2.07it/s]"
     ]
    },
    {
     "name": "stdout",
     "output_type": "stream",
     "text": [
      "{<InfectableType.SARSCoV2: 2>: 10, <InfectableType.SeasonalFlu: 1>: 10, <InfectableType.Cholera: 3>: 9}\n"
     ]
    },
    {
     "name": "stderr",
     "output_type": "stream",
     "text": [
      "\r",
      " 29%|███████████████████████▍                                                         | 29/100 [00:15<00:33,  2.10it/s]"
     ]
    },
    {
     "name": "stdout",
     "output_type": "stream",
     "text": [
      "{<InfectableType.SARSCoV2: 2>: 10, <InfectableType.SeasonalFlu: 1>: 10, <InfectableType.Cholera: 3>: 8}\n"
     ]
    },
    {
     "name": "stderr",
     "output_type": "stream",
     "text": [
      "\r",
      " 30%|████████████████████████▎                                                        | 30/100 [00:16<00:35,  1.98it/s]"
     ]
    },
    {
     "name": "stdout",
     "output_type": "stream",
     "text": [
      "{<InfectableType.SARSCoV2: 2>: 10, <InfectableType.SeasonalFlu: 1>: 10, <InfectableType.Cholera: 3>: 7}\n"
     ]
    },
    {
     "name": "stderr",
     "output_type": "stream",
     "text": [
      "\r",
      " 31%|█████████████████████████                                                        | 31/100 [00:16<00:35,  1.95it/s]"
     ]
    },
    {
     "name": "stdout",
     "output_type": "stream",
     "text": [
      "{<InfectableType.SARSCoV2: 2>: 10, <InfectableType.SeasonalFlu: 1>: 10, <InfectableType.Cholera: 3>: 6}\n"
     ]
    },
    {
     "name": "stderr",
     "output_type": "stream",
     "text": [
      "\r",
      " 32%|█████████████████████████▉                                                       | 32/100 [00:17<00:34,  2.00it/s]"
     ]
    },
    {
     "name": "stdout",
     "output_type": "stream",
     "text": [
      "{<InfectableType.SARSCoV2: 2>: 10, <InfectableType.SeasonalFlu: 1>: 10, <InfectableType.Cholera: 3>: 5}\n"
     ]
    },
    {
     "name": "stderr",
     "output_type": "stream",
     "text": [
      "\r",
      " 33%|██████████████████████████▋                                                      | 33/100 [00:17<00:33,  2.02it/s]"
     ]
    },
    {
     "name": "stdout",
     "output_type": "stream",
     "text": [
      "{<InfectableType.SARSCoV2: 2>: 10, <InfectableType.SeasonalFlu: 1>: 10, <InfectableType.Cholera: 3>: 4}\n"
     ]
    },
    {
     "name": "stderr",
     "output_type": "stream",
     "text": [
      "\r",
      " 34%|███████████████████████████▌                                                     | 34/100 [00:18<00:32,  2.05it/s]"
     ]
    },
    {
     "name": "stdout",
     "output_type": "stream",
     "text": [
      "{<InfectableType.SARSCoV2: 2>: 10, <InfectableType.SeasonalFlu: 1>: 10, <InfectableType.Cholera: 3>: 3}\n"
     ]
    },
    {
     "name": "stderr",
     "output_type": "stream",
     "text": [
      "\r",
      " 35%|████████████████████████████▎                                                    | 35/100 [00:18<00:31,  2.08it/s]"
     ]
    },
    {
     "name": "stdout",
     "output_type": "stream",
     "text": [
      "{<InfectableType.SARSCoV2: 2>: 10, <InfectableType.SeasonalFlu: 1>: 10, <InfectableType.Cholera: 3>: 2}\n"
     ]
    },
    {
     "name": "stderr",
     "output_type": "stream",
     "text": [
      "\r",
      " 36%|█████████████████████████████▏                                                   | 36/100 [00:19<00:35,  1.81it/s]"
     ]
    },
    {
     "name": "stdout",
     "output_type": "stream",
     "text": [
      "{<InfectableType.SARSCoV2: 2>: 10, <InfectableType.SeasonalFlu: 1>: 10, <InfectableType.Cholera: 3>: 1}\n"
     ]
    },
    {
     "name": "stderr",
     "output_type": "stream",
     "text": [
      "\r",
      " 37%|█████████████████████████████▉                                                   | 37/100 [00:20<00:35,  1.76it/s]"
     ]
    },
    {
     "name": "stdout",
     "output_type": "stream",
     "text": [
      "{<InfectableType.SARSCoV2: 2>: 10, <InfectableType.SeasonalFlu: 1>: 10, <InfectableType.Cholera: 3>: 0}\n"
     ]
    },
    {
     "name": "stderr",
     "output_type": "stream",
     "text": [
      "\r",
      " 38%|██████████████████████████████▊                                                  | 38/100 [00:20<00:38,  1.63it/s]"
     ]
    },
    {
     "name": "stdout",
     "output_type": "stream",
     "text": [
      "{<InfectableType.SARSCoV2: 2>: 10, <InfectableType.SeasonalFlu: 1>: 10, <InfectableType.Cholera: 3>: 9}\n"
     ]
    },
    {
     "name": "stderr",
     "output_type": "stream",
     "text": [
      "\r",
      " 39%|███████████████████████████████▌                                                 | 39/100 [00:21<00:36,  1.69it/s]"
     ]
    },
    {
     "name": "stdout",
     "output_type": "stream",
     "text": [
      "{<InfectableType.SARSCoV2: 2>: 10, <InfectableType.SeasonalFlu: 1>: 10, <InfectableType.Cholera: 3>: 8}\n"
     ]
    },
    {
     "name": "stderr",
     "output_type": "stream",
     "text": [
      "\r",
      " 40%|████████████████████████████████▍                                                | 40/100 [00:21<00:32,  1.83it/s]"
     ]
    },
    {
     "name": "stdout",
     "output_type": "stream",
     "text": [
      "{<InfectableType.SARSCoV2: 2>: 10, <InfectableType.SeasonalFlu: 1>: 10, <InfectableType.Cholera: 3>: 7}\n",
      "{<InfectableType.SARSCoV2: 2>: 10, <InfectableType.SeasonalFlu: 1>: 9, <InfectableType.Cholera: 3>: 7}\n"
     ]
    },
    {
     "name": "stderr",
     "output_type": "stream",
     "text": [
      "\r",
      " 41%|█████████████████████████████████▏                                               | 41/100 [00:22<00:32,  1.81it/s]"
     ]
    },
    {
     "name": "stdout",
     "output_type": "stream",
     "text": [
      "{<InfectableType.SARSCoV2: 2>: 10, <InfectableType.SeasonalFlu: 1>: 9, <InfectableType.Cholera: 3>: 6}\n",
      "{<InfectableType.SARSCoV2: 2>: 10, <InfectableType.SeasonalFlu: 1>: 8, <InfectableType.Cholera: 3>: 6}\n"
     ]
    },
    {
     "name": "stderr",
     "output_type": "stream",
     "text": [
      "\r",
      " 42%|██████████████████████████████████                                               | 42/100 [00:23<00:33,  1.71it/s]"
     ]
    },
    {
     "name": "stdout",
     "output_type": "stream",
     "text": [
      "{<InfectableType.SARSCoV2: 2>: 10, <InfectableType.SeasonalFlu: 1>: 8, <InfectableType.Cholera: 3>: 5}\n",
      "{<InfectableType.SARSCoV2: 2>: 10, <InfectableType.SeasonalFlu: 1>: 7, <InfectableType.Cholera: 3>: 5}\n",
      "{<InfectableType.SARSCoV2: 2>: 10, <InfectableType.SeasonalFlu: 1>: 9, <InfectableType.Cholera: 3>: 0}\n"
     ]
    },
    {
     "name": "stderr",
     "output_type": "stream",
     "text": [
      "\r",
      " 43%|██████████████████████████████████▊                                              | 43/100 [00:23<00:33,  1.71it/s]"
     ]
    },
    {
     "name": "stdout",
     "output_type": "stream",
     "text": [
      "{<InfectableType.SARSCoV2: 2>: 10, <InfectableType.SeasonalFlu: 1>: 7, <InfectableType.Cholera: 3>: 4}\n",
      "{<InfectableType.SARSCoV2: 2>: 10, <InfectableType.SeasonalFlu: 1>: 6, <InfectableType.Cholera: 3>: 4}\n",
      "{<InfectableType.SARSCoV2: 2>: 10, <InfectableType.SeasonalFlu: 1>: 8, <InfectableType.Cholera: 3>: 0}\n"
     ]
    },
    {
     "name": "stderr",
     "output_type": "stream",
     "text": [
      "\r",
      " 44%|███████████████████████████████████▋                                             | 44/100 [00:24<00:33,  1.69it/s]"
     ]
    },
    {
     "name": "stdout",
     "output_type": "stream",
     "text": [
      "{<InfectableType.SARSCoV2: 2>: 10, <InfectableType.SeasonalFlu: 1>: 6, <InfectableType.Cholera: 3>: 3}\n",
      "{<InfectableType.SARSCoV2: 2>: 10, <InfectableType.SeasonalFlu: 1>: 5, <InfectableType.Cholera: 3>: 3}\n",
      "{<InfectableType.SARSCoV2: 2>: 10, <InfectableType.SeasonalFlu: 1>: 7, <InfectableType.Cholera: 3>: 0}\n"
     ]
    },
    {
     "name": "stderr",
     "output_type": "stream",
     "text": [
      "\r",
      " 45%|████████████████████████████████████▍                                            | 45/100 [00:24<00:30,  1.80it/s]"
     ]
    },
    {
     "name": "stdout",
     "output_type": "stream",
     "text": [
      "{<InfectableType.SARSCoV2: 2>: 10, <InfectableType.SeasonalFlu: 1>: 5, <InfectableType.Cholera: 3>: 2}\n",
      "{<InfectableType.SARSCoV2: 2>: 10, <InfectableType.SeasonalFlu: 1>: 4, <InfectableType.Cholera: 3>: 2}\n",
      "{<InfectableType.SARSCoV2: 2>: 10, <InfectableType.SeasonalFlu: 1>: 6, <InfectableType.Cholera: 3>: 0}\n"
     ]
    },
    {
     "name": "stderr",
     "output_type": "stream",
     "text": [
      "\r",
      " 46%|█████████████████████████████████████▎                                           | 46/100 [00:25<00:28,  1.89it/s]"
     ]
    },
    {
     "name": "stdout",
     "output_type": "stream",
     "text": [
      "{<InfectableType.SARSCoV2: 2>: 10, <InfectableType.SeasonalFlu: 1>: 4, <InfectableType.Cholera: 3>: 1}\n"
     ]
    },
    {
     "name": "stderr",
     "output_type": "stream",
     "text": [
      "\r",
      " 47%|██████████████████████████████████████                                           | 47/100 [00:25<00:27,  1.95it/s]"
     ]
    },
    {
     "name": "stdout",
     "output_type": "stream",
     "text": [
      "{<InfectableType.SARSCoV2: 2>: 10, <InfectableType.SeasonalFlu: 1>: 4, <InfectableType.Cholera: 3>: 0}\n"
     ]
    },
    {
     "name": "stderr",
     "output_type": "stream",
     "text": [
      "\r",
      " 48%|██████████████████████████████████████▉                                          | 48/100 [00:26<00:25,  2.04it/s]"
     ]
    },
    {
     "name": "stdout",
     "output_type": "stream",
     "text": [
      "{<InfectableType.SARSCoV2: 2>: 10, <InfectableType.SeasonalFlu: 1>: 10, <InfectableType.Cholera: 3>: 9}\n"
     ]
    },
    {
     "name": "stderr",
     "output_type": "stream",
     "text": [
      "\r",
      " 49%|███████████████████████████████████████▋                                         | 49/100 [00:26<00:27,  1.89it/s]"
     ]
    },
    {
     "name": "stdout",
     "output_type": "stream",
     "text": [
      "{<InfectableType.SARSCoV2: 2>: 10, <InfectableType.SeasonalFlu: 1>: 10, <InfectableType.Cholera: 3>: 8}\n"
     ]
    },
    {
     "name": "stderr",
     "output_type": "stream",
     "text": [
      "100%|████████████████████████████████████████████████████████████████████████████████| 100/100 [00:55<00:00,  1.81it/s]\n"
     ]
    }
   ],
   "source": [
    "import tqdm\n",
    "context = initialize()\n",
    "last_day = None\n",
    "days_to_simulate = 100\n",
    "for day in tqdm.tqdm(range(days_to_simulate)):\n",
    "    last_day = simulate_day(context)"
   ]
  },
  {
   "cell_type": "markdown",
   "metadata": {},
   "source": [
    "# Plots"
   ]
  },
  {
   "cell_type": "code",
   "execution_count": 9,
   "metadata": {},
   "outputs": [],
   "source": [
    "import matplotlib.pyplot as plt\n",
    "from numpy import cumsum"
   ]
  },
  {
   "cell_type": "markdown",
   "metadata": {},
   "source": [
    "* Number of infected persons vs. time;"
   ]
  },
  {
   "cell_type": "code",
   "execution_count": 10,
   "metadata": {},
   "outputs": [
    {
     "data": {
      "image/png": "[encoded data removed]",
      "text/plain": [
       "<Figure size 432x288 with 1 Axes>"
      ]
     },
     "metadata": {
      "needs_background": "light"
     },
     "output_type": "display_data"
    }
   ],
   "source": [
    "p = plt.plot(cumsum(observer.infected_persons), linewidth=3)\n",
    "p = plt.plot(observer.infected_persons, linewidth=3)\n",
    "# cumulative sum"
   ]
  },
  {
   "cell_type": "markdown",
   "metadata": {},
   "source": [
    "* Number of hospitalized persons vs. time;"
   ]
  },
  {
   "cell_type": "code",
   "execution_count": 11,
   "metadata": {},
   "outputs": [
    {
     "data": {
      "image/png": "[encoded data removed]",
      "text/plain": [
       "<Figure size 432x288 with 1 Axes>"
      ]
     },
     "metadata": {
      "needs_background": "light"
     },
     "output_type": "display_data"
    }
   ],
   "source": [
    "p = plt.plot(cumsum(observer.hospitalized_persons), linewidth=3)\n",
    "#axes = plt.gca()\n",
    "#axes.set_xlim([0,days_to_simulate])\n",
    "#axes.set_ylim([0,max(observer.hospitalized_persons)])\n",
    "#observer.hospitalized_persons"
   ]
  },
  {
   "cell_type": "markdown",
   "metadata": {},
   "source": [
    "* Number of deaths vs. time;"
   ]
  },
  {
   "cell_type": "code",
   "execution_count": 12,
   "metadata": {},
   "outputs": [
    {
     "data": {
      "image/png": "[encoded data removed]",
      "text/plain": [
       "<Figure size 432x288 with 1 Axes>"
      ]
     },
     "metadata": {
      "needs_background": "light"
     },
     "output_type": "display_data"
    }
   ],
   "source": [
    "p = plt.plot(cumsum(observer.deaths), linewidth=3)\n",
    "#axes = plt.gca()\n",
    "#axes.set_xlim([0,days_to_simulate])\n",
    "#axes.set_ylim([0,max(observer.deaths)])"
   ]
  },
  {
   "cell_type": "markdown",
   "metadata": {},
   "source": [
    "* Number of recoveries vs. time;"
   ]
  },
  {
   "cell_type": "code",
   "execution_count": 13,
   "metadata": {},
   "outputs": [
    {
     "data": {
      "image/png": "[encoded data removed]",
      "text/plain": [
       "<Figure size 432x288 with 1 Axes>"
      ]
     },
     "metadata": {
      "needs_background": "light"
     },
     "output_type": "display_data"
    }
   ],
   "source": [
    "p = plt.plot(observer.recoveries, linewidth=3)\n",
    "#axes = plt.gca()\n",
    "#axes.set_xlim([0,days_to_simulate])\n",
    "#axes.set_ylim([0,max(observer.recoveries)])\n",
    "#observer.recoveries"
   ]
  },
  {
   "cell_type": "markdown",
   "metadata": {},
   "source": [
    "* Number of persons with antibodies vs. time."
   ]
  },
  {
   "cell_type": "code",
   "execution_count": 14,
   "metadata": {},
   "outputs": [
    {
     "data": {
      "image/png": "[encoded data removed]",
      "text/plain": [
       "<Figure size 432x288 with 1 Axes>"
      ]
     },
     "metadata": {
      "needs_background": "light"
     },
     "output_type": "display_data"
    }
   ],
   "source": [
    "p = plt.plot(cumsum(observer.persons_with_antibodies), linewidth=3)\n",
    "\n",
    "# Persons with antibodies are the people which have recovered after virus"
   ]
  },
  {
   "cell_type": "code",
   "execution_count": null,
   "metadata": {},
   "outputs": [],
   "source": [
    "a = "
   ]
  },
  {
   "cell_type": "code",
   "execution_count": null,
   "metadata": {},
   "outputs": [],
   "source": []
  },
  {
   "cell_type": "code",
   "execution_count": 46,
   "metadata": {},
   "outputs": [],
   "source": [
    "import unittest\n",
    "class PersonBecomeDead(unittest.TestCase): \n",
    "    \n",
    "    def test_temperature(self):\n",
    "        observer = Observer()\n",
    "        n_hospitals = 1\n",
    "        hospitals = create_hospitals(n_hospitals)\n",
    "        health_dept = create_department_of_health(hospitals)\n",
    "        min_age, max_age = 1, 90\n",
    "        min_weight, max_weight = 30, 120\n",
    "        min_i, max_i = 0, 100\n",
    "        min_j, max_j = 0, 100\n",
    "        n_persons = 1\n",
    "        person = Person(\n",
    "            home_position=(randint(min_j, max_j), randint(min_i, max_i)),\n",
    "            age=randint(min_age, max_age),\n",
    "            weight=randint(min_weight, max_weight),\n",
    "        )\n",
    "        \n",
    "        person.virus = get_infectable(InfectableType.Cholera)\n",
    "        person.state = SymptomaticSick(person)\n",
    "        person.temperature = 44.0\n",
    "        print(person)\n",
    "        #for persons in person:\n",
    "        #    persons.day_actions(health_dept)\n",
    "        person.day_actions(health_dept)\n",
    "        result_state = person.state\n",
    "        self.assertIsInstance(result_state, Dead)\n",
    "        \n",
    "       \n",
    "    def test_water(self):\n",
    "        observer = Observer()\n",
    "        n_hospitals = 1\n",
    "        hospitals = create_hospitals(n_hospitals)\n",
    "        health_dept = create_department_of_health(hospitals)\n",
    "        min_age, max_age = 1, 90\n",
    "        min_weight, max_weight = 30, 120\n",
    "        min_i, max_i = 0, 100\n",
    "        min_j, max_j = 0, 100\n",
    "        n_persons = 1\n",
    "        person = Person(\n",
    "            home_position=(randint(min_j, max_j), randint(min_i, max_i)),\n",
    "            age=randint(min_age, max_age),\n",
    "            weight=randint(min_weight, max_weight),\n",
    "        )\n",
    "        person.virus = get_infectable(InfectableType.Cholera)\n",
    "        person.state = SymptomaticSick(person)\n",
    "        person.water = 0.4 * person.weight\n",
    "        person.day_actions(health_dept)\n",
    "        result_state = person.state\n",
    "        self.assertIsInstance(result_state, Dead)"
   ]
  },
  {
   "cell_type": "code",
   "execution_count": 47,
   "metadata": {},
   "outputs": [
    {
     "name": "stderr",
     "output_type": "stream",
     "text": [
      ".."
     ]
    },
    {
     "name": "stdout",
     "output_type": "stream",
     "text": [
      "virus: <__main__.Cholera object at 0x0000023229F79130>, state: <__main__.SymptomaticSick object at 0x0000023229F79A30>\n"
     ]
    },
    {
     "name": "stderr",
     "output_type": "stream",
     "text": [
      "\n",
      "----------------------------------------------------------------------\n",
      "Ran 2 tests in 0.004s\n",
      "\n",
      "OK\n"
     ]
    }
   ],
   "source": [
    "if __name__ == '__main__':\n",
    "    unittest.main(argv=['first-arg-is-ignored'], exit=False)"
   ]
  },
  {
   "cell_type": "code",
   "execution_count": null,
   "metadata": {},
   "outputs": [],
   "source": []
  }
 ],
 "metadata": {
  "kernelspec": {
   "display_name": "Python 3",
   "language": "python",
   "name": "python3"
  },
  "language_info": {
   "codemirror_mode": {
    "name": "ipython",
    "version": 3
   },
   "file_extension": ".py",
   "mimetype": "text/x-python",
   "name": "python",
   "nbconvert_exporter": "python",
   "pygments_lexer": "ipython3",
   "version": "3.8.3"
  }
 },
 "nbformat": 4,
 "nbformat_minor": 4
}
